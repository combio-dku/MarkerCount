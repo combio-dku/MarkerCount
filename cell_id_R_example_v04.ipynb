{
 "cells": [
  {
   "cell_type": "markdown",
   "metadata": {},
   "source": [
    "# Using MarkerCount in R\n",
    "\n",
    "#### You must to install MarkerCount first by running the following command in a terminal\n",
    "pip install MarkerCount\n",
    "\n",
    "#### Then Load MarkerCount in R"
   ]
  },
  {
   "cell_type": "code",
   "execution_count": 9,
   "metadata": {},
   "outputs": [],
   "source": [
    "suppressPackageStartupMessages(library(anndata))\n",
    "suppressPackageStartupMessages(library(reticulate))\n",
    "\n",
    "### Load MarkerCount\n",
    "mkrcnt <- import(\"MarkerCount.marker_count\")"
   ]
  },
  {
   "cell_type": "markdown",
   "metadata": {
    "id": "beginning-attention"
   },
   "source": [
    "## Reference based MarkerCount\n",
    "#### Load data"
   ]
  },
  {
   "cell_type": "code",
   "execution_count": 10,
   "metadata": {},
   "outputs": [],
   "source": [
    "adata_test <- read_h5ad('Melanoma_5K.h5ad')\n",
    "adata_ref <- read_h5ad('HeadNeck_6K.h5ad')"
   ]
  },
  {
   "cell_type": "markdown",
   "metadata": {},
   "source": [
    "#### Set data to pass to MarkerCount"
   ]
  },
  {
   "cell_type": "code",
   "execution_count": 11,
   "metadata": {},
   "outputs": [],
   "source": [
    "X_ref <- adata_ref$to_df()\n",
    "cell_type_ref <- adata_ref$obs[,'broad_cell_type']\n",
    "\n",
    "X_test <- adata_test$to_df()\n",
    "cell_type_test <- adata_test$obs[,'broad_cell_type']"
   ]
  },
  {
   "cell_type": "code",
   "execution_count": 12,
   "metadata": {},
   "outputs": [
    {
     "data": {
      "text/html": [
       "<style>\n",
       ".list-inline {list-style: none; margin:0; padding: 0}\n",
       ".list-inline>li {display: inline-block}\n",
       ".list-inline>li:not(:last-child)::after {content: \"\\00b7\"; padding: 0 .5ex}\n",
       "</style>\n",
       "<ol class=list-inline><li>'Fibroblast'</li><li>'Tumor'</li><li>'B cell'</li><li>'Myocyte'</li><li>'Unknown'</li><li>'Macrophage'</li><li>'Endothelial cell'</li><li>'T cell'</li><li>'Dendritic cell'</li><li>'Mast cell'</li></ol>\n"
      ],
      "text/latex": [
       "\\begin{enumerate*}\n",
       "\\item 'Fibroblast'\n",
       "\\item 'Tumor'\n",
       "\\item 'B cell'\n",
       "\\item 'Myocyte'\n",
       "\\item 'Unknown'\n",
       "\\item 'Macrophage'\n",
       "\\item 'Endothelial cell'\n",
       "\\item 'T cell'\n",
       "\\item 'Dendritic cell'\n",
       "\\item 'Mast cell'\n",
       "\\end{enumerate*}\n"
      ],
      "text/markdown": [
       "1. 'Fibroblast'\n",
       "2. 'Tumor'\n",
       "3. 'B cell'\n",
       "4. 'Myocyte'\n",
       "5. 'Unknown'\n",
       "6. 'Macrophage'\n",
       "7. 'Endothelial cell'\n",
       "8. 'T cell'\n",
       "9. 'Dendritic cell'\n",
       "10. 'Mast cell'\n",
       "\n",
       "\n"
      ],
      "text/plain": [
       " [1] \"Fibroblast\"       \"Tumor\"            \"B cell\"           \"Myocyte\"         \n",
       " [5] \"Unknown\"          \"Macrophage\"       \"Endothelial cell\" \"T cell\"          \n",
       " [9] \"Dendritic cell\"   \"Mast cell\"       "
      ]
     },
     "metadata": {},
     "output_type": "display_data"
    },
    {
     "data": {
      "text/html": [
       "<style>\n",
       ".list-inline {list-style: none; margin:0; padding: 0}\n",
       ".list-inline>li {display: inline-block}\n",
       ".list-inline>li:not(:last-child)::after {content: \"\\00b7\"; padding: 0 .5ex}\n",
       "</style>\n",
       "<ol class=list-inline><li>'B cell'</li><li>'T cell'</li><li>'Tumor'</li><li>'Unknown'</li><li>'Fibroblast'</li><li>'Macrophage'</li><li>'Endothelial cell'</li><li>'NK cell'</li></ol>\n"
      ],
      "text/latex": [
       "\\begin{enumerate*}\n",
       "\\item 'B cell'\n",
       "\\item 'T cell'\n",
       "\\item 'Tumor'\n",
       "\\item 'Unknown'\n",
       "\\item 'Fibroblast'\n",
       "\\item 'Macrophage'\n",
       "\\item 'Endothelial cell'\n",
       "\\item 'NK cell'\n",
       "\\end{enumerate*}\n"
      ],
      "text/markdown": [
       "1. 'B cell'\n",
       "2. 'T cell'\n",
       "3. 'Tumor'\n",
       "4. 'Unknown'\n",
       "5. 'Fibroblast'\n",
       "6. 'Macrophage'\n",
       "7. 'Endothelial cell'\n",
       "8. 'NK cell'\n",
       "\n",
       "\n"
      ],
      "text/plain": [
       "[1] \"B cell\"           \"T cell\"           \"Tumor\"            \"Unknown\"         \n",
       "[5] \"Fibroblast\"       \"Macrophage\"       \"Endothelial cell\" \"NK cell\"         "
      ]
     },
     "metadata": {},
     "output_type": "display_data"
    }
   ],
   "source": [
    "as.character(unique(cell_type_ref))\n",
    "as.character(unique(cell_type_test))"
   ]
  },
  {
   "cell_type": "markdown",
   "metadata": {},
   "source": [
    "#### Run MarkerCount-Ref"
   ]
  },
  {
   "cell_type": "code",
   "execution_count": 8,
   "metadata": {},
   "outputs": [],
   "source": [
    "undesired <- c('Tumor', 'Unknown')"
   ]
  },
  {
   "cell_type": "code",
   "execution_count": 10,
   "metadata": {},
   "outputs": [
    {
     "data": {
      "text/html": [
       "<table class=\"dataframe\">\n",
       "<caption>A data.frame: 6 × 3</caption>\n",
       "<thead>\n",
       "\t<tr><th></th><th scope=col>cluster_label</th><th scope=col>cell_type_pred</th><th scope=col>cell_type_org</th></tr>\n",
       "\t<tr><th></th><th scope=col>&lt;chr&gt;</th><th scope=col>&lt;chr&gt;</th><th scope=col>&lt;fct&gt;</th></tr>\n",
       "</thead>\n",
       "<tbody>\n",
       "\t<tr><th scope=row>Cy72_CD45_H02_S758_comb</th><td>7 </td><td>B cell    </td><td>B cell</td></tr>\n",
       "\t<tr><th scope=row>CY58_1_CD45_B02_S974_comb</th><td>22</td><td>T cell    </td><td>T cell</td></tr>\n",
       "\t<tr><th scope=row>Cy71_CD45_D08_S524_comb</th><td>20</td><td>unassigned</td><td>Tumor </td></tr>\n",
       "\t<tr><th scope=row>Cy81_FNA_CD45_B01_S301_comb</th><td>10</td><td>Fibroblast</td><td>Tumor </td></tr>\n",
       "\t<tr><th scope=row>Cy80_II_CD45_B07_S883_comb</th><td>11</td><td>Fibroblast</td><td>Tumor </td></tr>\n",
       "\t<tr><th scope=row>Cy81_Bulk_CD45_B10_S118_comb</th><td>10</td><td>B cell    </td><td>Tumor </td></tr>\n",
       "</tbody>\n",
       "</table>\n"
      ],
      "text/latex": [
       "A data.frame: 6 × 3\n",
       "\\begin{tabular}{r|lll}\n",
       "  & cluster\\_label & cell\\_type\\_pred & cell\\_type\\_org\\\\\n",
       "  & <chr> & <chr> & <fct>\\\\\n",
       "\\hline\n",
       "\tCy72\\_CD45\\_H02\\_S758\\_comb & 7  & B cell     & B cell\\\\\n",
       "\tCY58\\_1\\_CD45\\_B02\\_S974\\_comb & 22 & T cell     & T cell\\\\\n",
       "\tCy71\\_CD45\\_D08\\_S524\\_comb & 20 & unassigned & Tumor \\\\\n",
       "\tCy81\\_FNA\\_CD45\\_B01\\_S301\\_comb & 10 & Fibroblast & Tumor \\\\\n",
       "\tCy80\\_II\\_CD45\\_B07\\_S883\\_comb & 11 & Fibroblast & Tumor \\\\\n",
       "\tCy81\\_Bulk\\_CD45\\_B10\\_S118\\_comb & 10 & B cell     & Tumor \\\\\n",
       "\\end{tabular}\n"
      ],
      "text/markdown": [
       "\n",
       "A data.frame: 6 × 3\n",
       "\n",
       "| <!--/--> | cluster_label &lt;chr&gt; | cell_type_pred &lt;chr&gt; | cell_type_org &lt;fct&gt; |\n",
       "|---|---|---|---|\n",
       "| Cy72_CD45_H02_S758_comb | 7  | B cell     | B cell |\n",
       "| CY58_1_CD45_B02_S974_comb | 22 | T cell     | T cell |\n",
       "| Cy71_CD45_D08_S524_comb | 20 | unassigned | Tumor  |\n",
       "| Cy81_FNA_CD45_B01_S301_comb | 10 | Fibroblast | Tumor  |\n",
       "| Cy80_II_CD45_B07_S883_comb | 11 | Fibroblast | Tumor  |\n",
       "| Cy81_Bulk_CD45_B10_S118_comb | 10 | B cell     | Tumor  |\n",
       "\n"
      ],
      "text/plain": [
       "                             cluster_label cell_type_pred cell_type_org\n",
       "Cy72_CD45_H02_S758_comb      7             B cell         B cell       \n",
       "CY58_1_CD45_B02_S974_comb    22            T cell         T cell       \n",
       "Cy71_CD45_D08_S524_comb      20            unassigned     Tumor        \n",
       "Cy81_FNA_CD45_B01_S301_comb  10            Fibroblast     Tumor        \n",
       "Cy80_II_CD45_B07_S883_comb   11            Fibroblast     Tumor        \n",
       "Cy81_Bulk_CD45_B10_S118_comb 10            B cell         Tumor        "
      ]
     },
     "metadata": {},
     "output_type": "display_data"
    }
   ],
   "source": [
    "df_res <- mkrcnt$MarkerCount_Ref( X_ref, cell_type_ref, \n",
    "                                  X_test = X_test, df_mkr_mat = NULL,\n",
    "                                  N_mkrs = 18, of_th = 0.9, # min_th = 0.2, \n",
    "                                  cell_types_to_excl = undesired, \n",
    "                                  cluster_label = NULL, X_pca = NULL, \n",
    "                                  log_transformed = FALSE, \n",
    "                                  file_to_save_marker = 'UC_cell_markers', \n",
    "                                  verbose = TRUE)\n",
    "\n",
    "df_res[,'cell_type_org'] <- cell_type_test\n",
    "head(df_res)"
   ]
  },
  {
   "cell_type": "markdown",
   "metadata": {},
   "source": [
    "## Marker-based MarkerCount\n",
    "#### Load data"
   ]
  },
  {
   "cell_type": "code",
   "execution_count": 8,
   "metadata": {},
   "outputs": [
    {
     "data": {
      "text/plain": [
       "AnnData object with n_obs × n_vars = 4513 × 23684\n",
       "    obs: 'tumor', 'malignant', 'cell_type', 'broad_cell_type', 'sample_name'\n",
       "    var: 'gene_name'"
      ]
     },
     "metadata": {},
     "output_type": "display_data"
    }
   ],
   "source": [
    "adata_test <- read_h5ad('Melanoma_5K.h5ad')\n",
    "adata_test"
   ]
  },
  {
   "cell_type": "markdown",
   "metadata": {},
   "source": [
    "#### Set data to pass to MarkerCount"
   ]
  },
  {
   "cell_type": "code",
   "execution_count": null,
   "metadata": {},
   "outputs": [],
   "source": [
    "X_test <- adata_test$to_df()\n",
    "cell_type_test <- adata_test$obs[,'broad_cell_type']"
   ]
  },
  {
   "cell_type": "markdown",
   "metadata": {},
   "source": [
    "#### Load marker matrix"
   ]
  },
  {
   "cell_type": "code",
   "execution_count": 6,
   "metadata": {},
   "outputs": [
    {
     "data": {
      "text/html": [
       "<table class=\"dataframe\">\n",
       "<caption>A data.frame: 6 × 1104</caption>\n",
       "<thead>\n",
       "\t<tr><th></th><th scope=col>X11.SEP</th><th scope=col>ABCA2</th><th scope=col>ABCA7</th><th scope=col>ABCC3</th><th scope=col>ABHD15</th><th scope=col>ABHD3</th><th scope=col>ABI2</th><th scope=col>ABI3</th><th scope=col>ABLIM1</th><th scope=col>ACOT9</th><th scope=col>⋯</th><th scope=col>ZFAT</th><th scope=col>ZFYVE26</th><th scope=col>ZNF101</th><th scope=col>ZNF366</th><th scope=col>ZNF506</th><th scope=col>ZNF527</th><th scope=col>ZNF600</th><th scope=col>ZNF683</th><th scope=col>ZNF789</th><th scope=col>ZNFX1</th></tr>\n",
       "\t<tr><th></th><th scope=col>&lt;int&gt;</th><th scope=col>&lt;int&gt;</th><th scope=col>&lt;int&gt;</th><th scope=col>&lt;int&gt;</th><th scope=col>&lt;int&gt;</th><th scope=col>&lt;int&gt;</th><th scope=col>&lt;int&gt;</th><th scope=col>&lt;int&gt;</th><th scope=col>&lt;int&gt;</th><th scope=col>&lt;int&gt;</th><th scope=col>⋯</th><th scope=col>&lt;int&gt;</th><th scope=col>&lt;int&gt;</th><th scope=col>&lt;int&gt;</th><th scope=col>&lt;int&gt;</th><th scope=col>&lt;int&gt;</th><th scope=col>&lt;int&gt;</th><th scope=col>&lt;int&gt;</th><th scope=col>&lt;int&gt;</th><th scope=col>&lt;int&gt;</th><th scope=col>&lt;int&gt;</th></tr>\n",
       "</thead>\n",
       "<tbody>\n",
       "\t<tr><th scope=row>Effector CD8+ memory T (Tem) cell</th><td>0</td><td>0</td><td>0</td><td>0</td><td>0</td><td>0</td><td>0</td><td>0</td><td>0</td><td>0</td><td>⋯</td><td>0</td><td>0</td><td>0</td><td>0</td><td>0</td><td>0</td><td>1</td><td>0</td><td>0</td><td>0</td></tr>\n",
       "\t<tr><th scope=row>Fibroblast</th><td>0</td><td>0</td><td>0</td><td>0</td><td>0</td><td>0</td><td>0</td><td>0</td><td>0</td><td>0</td><td>⋯</td><td>0</td><td>0</td><td>0</td><td>0</td><td>0</td><td>0</td><td>0</td><td>0</td><td>0</td><td>0</td></tr>\n",
       "\t<tr><th scope=row>Naive T cell</th><td>0</td><td>0</td><td>0</td><td>0</td><td>0</td><td>0</td><td>0</td><td>0</td><td>0</td><td>0</td><td>⋯</td><td>0</td><td>0</td><td>0</td><td>0</td><td>0</td><td>0</td><td>0</td><td>0</td><td>0</td><td>0</td></tr>\n",
       "\t<tr><th scope=row>Regulatory T (Treg) cell</th><td>0</td><td>0</td><td>0</td><td>0</td><td>0</td><td>0</td><td>0</td><td>0</td><td>0</td><td>0</td><td>⋯</td><td>0</td><td>0</td><td>0</td><td>0</td><td>0</td><td>0</td><td>0</td><td>0</td><td>0</td><td>0</td></tr>\n",
       "\t<tr><th scope=row>CD4+ memory T cell</th><td>0</td><td>0</td><td>0</td><td>0</td><td>0</td><td>0</td><td>0</td><td>0</td><td>0</td><td>0</td><td>⋯</td><td>0</td><td>0</td><td>0</td><td>0</td><td>0</td><td>0</td><td>0</td><td>0</td><td>0</td><td>0</td></tr>\n",
       "\t<tr><th scope=row>Megakaryocyte</th><td>0</td><td>0</td><td>0</td><td>0</td><td>0</td><td>0</td><td>0</td><td>0</td><td>0</td><td>0</td><td>⋯</td><td>0</td><td>0</td><td>0</td><td>0</td><td>0</td><td>0</td><td>0</td><td>0</td><td>0</td><td>0</td></tr>\n",
       "</tbody>\n",
       "</table>\n"
      ],
      "text/latex": [
       "A data.frame: 6 × 1104\n",
       "\\begin{tabular}{r|lllllllllllllllllllll}\n",
       "  & X11.SEP & ABCA2 & ABCA7 & ABCC3 & ABHD15 & ABHD3 & ABI2 & ABI3 & ABLIM1 & ACOT9 & ⋯ & ZFAT & ZFYVE26 & ZNF101 & ZNF366 & ZNF506 & ZNF527 & ZNF600 & ZNF683 & ZNF789 & ZNFX1\\\\\n",
       "  & <int> & <int> & <int> & <int> & <int> & <int> & <int> & <int> & <int> & <int> & ⋯ & <int> & <int> & <int> & <int> & <int> & <int> & <int> & <int> & <int> & <int>\\\\\n",
       "\\hline\n",
       "\tEffector CD8+ memory T (Tem) cell & 0 & 0 & 0 & 0 & 0 & 0 & 0 & 0 & 0 & 0 & ⋯ & 0 & 0 & 0 & 0 & 0 & 0 & 1 & 0 & 0 & 0\\\\\n",
       "\tFibroblast & 0 & 0 & 0 & 0 & 0 & 0 & 0 & 0 & 0 & 0 & ⋯ & 0 & 0 & 0 & 0 & 0 & 0 & 0 & 0 & 0 & 0\\\\\n",
       "\tNaive T cell & 0 & 0 & 0 & 0 & 0 & 0 & 0 & 0 & 0 & 0 & ⋯ & 0 & 0 & 0 & 0 & 0 & 0 & 0 & 0 & 0 & 0\\\\\n",
       "\tRegulatory T (Treg) cell & 0 & 0 & 0 & 0 & 0 & 0 & 0 & 0 & 0 & 0 & ⋯ & 0 & 0 & 0 & 0 & 0 & 0 & 0 & 0 & 0 & 0\\\\\n",
       "\tCD4+ memory T cell & 0 & 0 & 0 & 0 & 0 & 0 & 0 & 0 & 0 & 0 & ⋯ & 0 & 0 & 0 & 0 & 0 & 0 & 0 & 0 & 0 & 0\\\\\n",
       "\tMegakaryocyte & 0 & 0 & 0 & 0 & 0 & 0 & 0 & 0 & 0 & 0 & ⋯ & 0 & 0 & 0 & 0 & 0 & 0 & 0 & 0 & 0 & 0\\\\\n",
       "\\end{tabular}\n"
      ],
      "text/markdown": [
       "\n",
       "A data.frame: 6 × 1104\n",
       "\n",
       "| <!--/--> | X11.SEP &lt;int&gt; | ABCA2 &lt;int&gt; | ABCA7 &lt;int&gt; | ABCC3 &lt;int&gt; | ABHD15 &lt;int&gt; | ABHD3 &lt;int&gt; | ABI2 &lt;int&gt; | ABI3 &lt;int&gt; | ABLIM1 &lt;int&gt; | ACOT9 &lt;int&gt; | ⋯ ⋯ | ZFAT &lt;int&gt; | ZFYVE26 &lt;int&gt; | ZNF101 &lt;int&gt; | ZNF366 &lt;int&gt; | ZNF506 &lt;int&gt; | ZNF527 &lt;int&gt; | ZNF600 &lt;int&gt; | ZNF683 &lt;int&gt; | ZNF789 &lt;int&gt; | ZNFX1 &lt;int&gt; |\n",
       "|---|---|---|---|---|---|---|---|---|---|---|---|---|---|---|---|---|---|---|---|---|---|\n",
       "| Effector CD8+ memory T (Tem) cell | 0 | 0 | 0 | 0 | 0 | 0 | 0 | 0 | 0 | 0 | ⋯ | 0 | 0 | 0 | 0 | 0 | 0 | 1 | 0 | 0 | 0 |\n",
       "| Fibroblast | 0 | 0 | 0 | 0 | 0 | 0 | 0 | 0 | 0 | 0 | ⋯ | 0 | 0 | 0 | 0 | 0 | 0 | 0 | 0 | 0 | 0 |\n",
       "| Naive T cell | 0 | 0 | 0 | 0 | 0 | 0 | 0 | 0 | 0 | 0 | ⋯ | 0 | 0 | 0 | 0 | 0 | 0 | 0 | 0 | 0 | 0 |\n",
       "| Regulatory T (Treg) cell | 0 | 0 | 0 | 0 | 0 | 0 | 0 | 0 | 0 | 0 | ⋯ | 0 | 0 | 0 | 0 | 0 | 0 | 0 | 0 | 0 | 0 |\n",
       "| CD4+ memory T cell | 0 | 0 | 0 | 0 | 0 | 0 | 0 | 0 | 0 | 0 | ⋯ | 0 | 0 | 0 | 0 | 0 | 0 | 0 | 0 | 0 | 0 |\n",
       "| Megakaryocyte | 0 | 0 | 0 | 0 | 0 | 0 | 0 | 0 | 0 | 0 | ⋯ | 0 | 0 | 0 | 0 | 0 | 0 | 0 | 0 | 0 | 0 |\n",
       "\n"
      ],
      "text/plain": [
       "                                  X11.SEP ABCA2 ABCA7 ABCC3 ABHD15 ABHD3 ABI2\n",
       "Effector CD8+ memory T (Tem) cell 0       0     0     0     0      0     0   \n",
       "Fibroblast                        0       0     0     0     0      0     0   \n",
       "Naive T cell                      0       0     0     0     0      0     0   \n",
       "Regulatory T (Treg) cell          0       0     0     0     0      0     0   \n",
       "CD4+ memory T cell                0       0     0     0     0      0     0   \n",
       "Megakaryocyte                     0       0     0     0     0      0     0   \n",
       "                                  ABI3 ABLIM1 ACOT9 ⋯ ZFAT ZFYVE26 ZNF101\n",
       "Effector CD8+ memory T (Tem) cell 0    0      0     ⋯ 0    0       0     \n",
       "Fibroblast                        0    0      0     ⋯ 0    0       0     \n",
       "Naive T cell                      0    0      0     ⋯ 0    0       0     \n",
       "Regulatory T (Treg) cell          0    0      0     ⋯ 0    0       0     \n",
       "CD4+ memory T cell                0    0      0     ⋯ 0    0       0     \n",
       "Megakaryocyte                     0    0      0     ⋯ 0    0       0     \n",
       "                                  ZNF366 ZNF506 ZNF527 ZNF600 ZNF683 ZNF789\n",
       "Effector CD8+ memory T (Tem) cell 0      0      0      1      0      0     \n",
       "Fibroblast                        0      0      0      0      0      0     \n",
       "Naive T cell                      0      0      0      0      0      0     \n",
       "Regulatory T (Treg) cell          0      0      0      0      0      0     \n",
       "CD4+ memory T cell                0      0      0      0      0      0     \n",
       "Megakaryocyte                     0      0      0      0      0      0     \n",
       "                                  ZNFX1\n",
       "Effector CD8+ memory T (Tem) cell 0    \n",
       "Fibroblast                        0    \n",
       "Naive T cell                      0    \n",
       "Regulatory T (Treg) cell          0    \n",
       "CD4+ memory T cell                0    \n",
       "Megakaryocyte                     0    "
      ]
     },
     "metadata": {},
     "output_type": "display_data"
    }
   ],
   "source": [
    "df_mkr_mat <- read.csv('Mkr_mat_CellMarker_Blood.csv', header = TRUE, row.names = 1)\n",
    "head(df_mkr_mat)"
   ]
  },
  {
   "cell_type": "markdown",
   "metadata": {},
   "source": [
    "#### Run MarkerCount "
   ]
  },
  {
   "cell_type": "code",
   "execution_count": 7,
   "metadata": {},
   "outputs": [
    {
     "data": {
      "text/html": [
       "<table class=\"dataframe\">\n",
       "<caption>A data.frame: 6 × 3</caption>\n",
       "<thead>\n",
       "\t<tr><th></th><th scope=col>cluster_label</th><th scope=col>cell_type_pred</th><th scope=col>cell_type_org</th></tr>\n",
       "\t<tr><th></th><th scope=col>&lt;dbl&gt;</th><th scope=col>&lt;chr&gt;</th><th scope=col>&lt;fct&gt;</th></tr>\n",
       "</thead>\n",
       "<tbody>\n",
       "\t<tr><th scope=row>Cy72_CD45_H02_S758_comb</th><td>15</td><td>B cell    </td><td>B cell</td></tr>\n",
       "\t<tr><th scope=row>CY58_1_CD45_B02_S974_comb</th><td>44</td><td>T cell    </td><td>T cell</td></tr>\n",
       "\t<tr><th scope=row>Cy71_CD45_D08_S524_comb</th><td>25</td><td>unassigned</td><td>Tumor </td></tr>\n",
       "\t<tr><th scope=row>Cy81_FNA_CD45_B01_S301_comb</th><td> 6</td><td>unassigned</td><td>Tumor </td></tr>\n",
       "\t<tr><th scope=row>Cy80_II_CD45_B07_S883_comb</th><td>17</td><td>unassigned</td><td>Tumor </td></tr>\n",
       "\t<tr><th scope=row>Cy81_Bulk_CD45_B10_S118_comb</th><td> 6</td><td>unassigned</td><td>Tumor </td></tr>\n",
       "</tbody>\n",
       "</table>\n"
      ],
      "text/latex": [
       "A data.frame: 6 × 3\n",
       "\\begin{tabular}{r|lll}\n",
       "  & cluster\\_label & cell\\_type\\_pred & cell\\_type\\_org\\\\\n",
       "  & <dbl> & <chr> & <fct>\\\\\n",
       "\\hline\n",
       "\tCy72\\_CD45\\_H02\\_S758\\_comb & 15 & B cell     & B cell\\\\\n",
       "\tCY58\\_1\\_CD45\\_B02\\_S974\\_comb & 44 & T cell     & T cell\\\\\n",
       "\tCy71\\_CD45\\_D08\\_S524\\_comb & 25 & unassigned & Tumor \\\\\n",
       "\tCy81\\_FNA\\_CD45\\_B01\\_S301\\_comb &  6 & unassigned & Tumor \\\\\n",
       "\tCy80\\_II\\_CD45\\_B07\\_S883\\_comb & 17 & unassigned & Tumor \\\\\n",
       "\tCy81\\_Bulk\\_CD45\\_B10\\_S118\\_comb &  6 & unassigned & Tumor \\\\\n",
       "\\end{tabular}\n"
      ],
      "text/markdown": [
       "\n",
       "A data.frame: 6 × 3\n",
       "\n",
       "| <!--/--> | cluster_label &lt;dbl&gt; | cell_type_pred &lt;chr&gt; | cell_type_org &lt;fct&gt; |\n",
       "|---|---|---|---|\n",
       "| Cy72_CD45_H02_S758_comb | 15 | B cell     | B cell |\n",
       "| CY58_1_CD45_B02_S974_comb | 44 | T cell     | T cell |\n",
       "| Cy71_CD45_D08_S524_comb | 25 | unassigned | Tumor  |\n",
       "| Cy81_FNA_CD45_B01_S301_comb |  6 | unassigned | Tumor  |\n",
       "| Cy80_II_CD45_B07_S883_comb | 17 | unassigned | Tumor  |\n",
       "| Cy81_Bulk_CD45_B10_S118_comb |  6 | unassigned | Tumor  |\n",
       "\n"
      ],
      "text/plain": [
       "                             cluster_label cell_type_pred cell_type_org\n",
       "Cy72_CD45_H02_S758_comb      15            B cell         B cell       \n",
       "CY58_1_CD45_B02_S974_comb    44            T cell         T cell       \n",
       "Cy71_CD45_D08_S524_comb      25            unassigned     Tumor        \n",
       "Cy81_FNA_CD45_B01_S301_comb   6            unassigned     Tumor        \n",
       "Cy80_II_CD45_B07_S883_comb   17            unassigned     Tumor        \n",
       "Cy81_Bulk_CD45_B10_S118_comb  6            unassigned     Tumor        "
      ]
     },
     "metadata": {},
     "output_type": "display_data"
    }
   ],
   "source": [
    "df_res <- mkrcnt$MarkerCount( X_test, mkr_mat = df_mkr_mat,\n",
    "                              min_th = 0.2, N_mkrs_max = 18, N_mkrs_min = 3, of_th = 0.9,\n",
    "                              target_FPR = 0.12, clustering = 'gm', N_clust_per_cell_type = 3,\n",
    "                              cluster_label = NULL, X_pca = NULL,\n",
    "                              log_transformed = FALSE,\n",
    "                              verbose = TRUE)\n",
    "\n",
    "df_res[,'cell_type_org'] <- cell_type_test\n",
    "head(df_res)"
   ]
  },
  {
   "cell_type": "code",
   "execution_count": null,
   "metadata": {},
   "outputs": [],
   "source": []
  }
 ],
 "metadata": {
  "colab": {
   "name": "R_sc_cell_id_training_v01.ipynb",
   "provenance": []
  },
  "kernelspec": {
   "display_name": "R",
   "language": "R",
   "name": "ir"
  },
  "language_info": {
   "codemirror_mode": "r",
   "file_extension": ".r",
   "mimetype": "text/x-r-source",
   "name": "R",
   "pygments_lexer": "r",
   "version": "4.0.2"
  }
 },
 "nbformat": 4,
 "nbformat_minor": 5
}
